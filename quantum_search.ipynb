{
 "cells": [
  {
   "cell_type": "markdown",
   "id": "69e9862e",
   "metadata": {},
   "source": [
    "## Imports"
   ]
  },
  {
   "cell_type": "code",
   "execution_count": 10,
   "id": "5f278af3",
   "metadata": {},
   "outputs": [],
   "source": [
    "from qrisp import QuantumDictionary, auto_uncompute, QuantumFloat, QuantumVariable\n",
    "from qrisp.grover import tag_state, grovers_alg\n",
    "from qrisp.interface import BackendClient\n",
    "from qrisp import DefaultBackend\n",
    "import numpy as np\n",
    "import string"
   ]
  },
  {
   "cell_type": "markdown",
   "id": "7fbd03c7",
   "metadata": {},
   "source": [
    "# Quantum search application using Grover's algorithm\n",
    "\n",
    "We build a quantum search application for searching words in a text (unstructured data) using the Eclipse Qrisp programming framework.\n",
    "\n",
    "\n",
    "References: \n",
    "\n",
    "Qrisp: A Framework for Compilable High-Level Programming of Gate-Based Quantum Computers https://arxiv.org/abs/2406.14792\n",
    "\n",
    "Automatic Gerneration of Grover Quantum Oracles for Arbitrary Data Structures, https://iopscience.iop.org/article/10.1088/2058-9565/acaf9d\n"
   ]
  },
  {
   "cell_type": "code",
   "execution_count": 11,
   "id": "e2536c02",
   "metadata": {},
   "outputs": [],
   "source": [
    "# Exact Grover's algorithm\n",
    "\n",
    "# Generate the quantum oralce encoding the data base\n",
    "def create_db_oracle(db, labeling, label_size):\n",
    "    \n",
    "    qd = QuantumDictionary(\n",
    "        return_type = QuantumVariable(label_size))\n",
    "    for i in range(len(db)):\n",
    "        qd[i] = labeling(db[i])\n",
    "\n",
    "    def db_oracle(index_qf):\n",
    "        return qd[index_qf]\n",
    "    \n",
    "    return db_oracle\n",
    "\n",
    "\n",
    "def create_query_oracle(db_oracle, labeling):\n",
    "\n",
    "    @auto_uncompute\n",
    "    def query_oracle(index_qf, query_object, phase=np.pi):\n",
    "        label_bitstring = labeling(query_object)\n",
    "        label_qv = db_oracle(index_qf)\n",
    "        tag_state({label_qv : label_bitstring}, phase = phase)\n",
    "        return\n",
    "\n",
    "    return query_oracle\n",
    "\n",
    "\n",
    "class SearchApplication:\n",
    "    \"\"\"\n",
    "    This class implements interfaces for quantum search (search words in an input text) using Grover's algorithm.\n",
    "    It provides the functions ``update_text`` and ``search_word``.\n",
    "\n",
    "    Parameters\n",
    "    ----------\n",
    "    n : int\n",
    "        The size, i.e. number of words, of the input text is 2^n.\n",
    "    k : int\n",
    "        The label size. A hash function is utilized to represent each word in the input text by its label, \n",
    "        i.e. a bitstring of size k. Depending on the number of words 2^n, the label size k must be chosen large enough to avoid collisions.\n",
    "    backend : BackendClient, optional\n",
    "        The backend on which to evaluate the quantum circuit. \n",
    "\n",
    "    \"\"\"\n",
    "     \n",
    "    def __init__(self, n, k, backend=None):\n",
    "        self.n = n # Set db size (2**n)\n",
    "        self.k = k # Set label size \n",
    "        \n",
    "        if backend is None:\n",
    "            self.backend = DefaultBackend()\n",
    "        else:\n",
    "            self.backend = backend\n",
    "\n",
    "        def labeling(x):\n",
    "            # Return clipped bitstring of hash\n",
    "            return bin(hash(x))[-self.k:]\n",
    "\n",
    "        self.labeling = labeling\n",
    "\n",
    "        self.data = None\n",
    "        self.db_oracle = None\n",
    "\n",
    "    def update_text(self, text):\n",
    "        \"\"\" \n",
    "        Update the input text. \n",
    "        The text is transformed into an unstructured data base, i.e. a list of string.\n",
    "        The quantum oracle encoding the data base is generated.\n",
    "\n",
    "        Parameters\n",
    "        ----------\n",
    "        text : str\n",
    "            The input text.\n",
    "        \n",
    "        \"\"\"\n",
    "         # Create a translation table to remove punctuation\n",
    "        translator = str.maketrans('', '', string.punctuation)\n",
    "        clean_text = text.translate(translator)\n",
    "        self.data = clean_text.split(\" \")[:2**self.n] \n",
    "\n",
    "        self.db_oracle = create_db_oracle(self.data, self.labeling, self.k)\n",
    "\n",
    "    def search_word(self, query_object):\n",
    "        \"\"\"\n",
    "        Search a word in the input text.\n",
    "\n",
    "        Parameters\n",
    "        ----------\n",
    "        query_object : str\n",
    "            The word searched in the text.\n",
    "\n",
    "        Returns\n",
    "        -------\n",
    "        int\n",
    "            The position of the query_objct in the text.\n",
    "        \n",
    "        \"\"\"\n",
    "        \n",
    "        query_oracle = create_query_oracle(self.db_oracle, self.labeling)\n",
    "\n",
    "        # Create index integer\n",
    "        index_qf = QuantumFloat(self.n)\n",
    "        # Evaluate Grover's algorithm\n",
    "        grovers_alg(index_qf,\n",
    "                query_oracle,\n",
    "                kwargs = {\"query_object\" : query_object},\n",
    "                winner_state_amount=1,\n",
    "                exact=True)\n",
    "        result = list(index_qf.get_measurement(backend=self.backend,shots=1).keys())[0]\n",
    "        return result"
   ]
  },
  {
   "cell_type": "markdown",
   "id": "14d5273d",
   "metadata": {},
   "source": [
    "## Example"
   ]
  },
  {
   "cell_type": "code",
   "execution_count": 24,
   "id": "d5960bbd",
   "metadata": {},
   "outputs": [
    {
     "data": {
      "text/plain": [
       "3"
      ]
     },
     "execution_count": 24,
     "metadata": {},
     "output_type": "execute_result"
    }
   ],
   "source": [
    "# Use fake backend with a noise model emulating a real quantum computer (based on Qiskit's AerSimulator)\n",
    "fake_backend = BackendClient(api_endpoint = \"127.0.0.1\", port = 42069) \n",
    "\n",
    "# Initialize the search application (for n=3, the first 2^3=8 words of the text are relevant)\n",
    "app = SearchApplication(3,6,backend=fake_backend) \n",
    "\n",
    "# If no backend is specified, the Qrisp DefaultBackend, i.e. the Qrisp simulator is utilized\n",
    "#app = SearchApplication(3,6) \n",
    "\n",
    "# Generate some sample text\n",
    "text = \"Gallia est omnis divisa in partes tres, quarum unam incolunt Belgae, aliam Aquitani, tertiam qui ipsorum lingua Celtae, nostra Galli appellantur.\" \n",
    "\n",
    "app.update_text(text)\n",
    "app.search_word(\"divisa\")"
   ]
  },
  {
   "cell_type": "code",
   "execution_count": null,
   "id": "cd51fae1",
   "metadata": {},
   "outputs": [],
   "source": []
  },
  {
   "cell_type": "code",
   "execution_count": null,
   "id": "f51d8c7f",
   "metadata": {},
   "outputs": [],
   "source": []
  }
 ],
 "metadata": {
  "kernelspec": {
   "display_name": "qrisp",
   "language": "python",
   "name": "python3"
  },
  "language_info": {
   "codemirror_mode": {
    "name": "ipython",
    "version": 3
   },
   "file_extension": ".py",
   "mimetype": "text/x-python",
   "name": "python",
   "nbconvert_exporter": "python",
   "pygments_lexer": "ipython3",
   "version": "3.10.16"
  }
 },
 "nbformat": 4,
 "nbformat_minor": 5
}
